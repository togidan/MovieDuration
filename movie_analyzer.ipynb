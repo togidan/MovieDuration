{
 "cells": [
  {
   "cell_type": "markdown",
   "metadata": {},
   "source": [
    "# Movie Times Analysis\n",
    "\n",
    "You ever watch a movie and just think, \"Wow this could've been a much shorter film to get the story across..\"? Yeah, me too. So for this analysis, I want to figure out what happeend and maybe I'm suffering from a fake sense of nostalgia for movies not being nearly as long. Of course there are things like when I was a child I perceived time different ##INSERT LINK HERE## or that kids movies in particular are just not very long to begin with.\n",
    "\n",
    "## Goal\n",
    "\n",
    "The goal of this project is to try and figure out what variables might help predict the length of a movie. Some questions to answer are:\n",
    "* Are average movie lengths getting longer over time?\n",
    "* Are certain genre's increasing in length over time?\n",
    "* Is there a way to highlight blockbusters and see if they alone are getting longer?\n",
    "* Is there a correlation between box office success and the length of the movie?\n",
    "* Ultimately, what are some reasons movies are starting to get longer.\n",
    "\n",
    "## Dataset\n",
    "\n",
    "I'll be using the [The Movie Database](https://www.themoviedb.org/) as my source for movie information. This is essentially a Wikipedia for movies that includes inforamtion such as release date, genre, audience scores, etc...\n",
    "\n",
    "T&C of using the TMDB API: https://www.themoviedb.org/settings/api/new?type=developer"
   ]
  },
  {
   "cell_type": "markdown",
   "metadata": {},
   "source": [
    "Let's start with reading data from the API."
   ]
  },
  {
   "cell_type": "code",
   "execution_count": null,
   "metadata": {},
   "outputs": [],
   "source": [
    "import pandas as pd\n"
   ]
  }
 ],
 "metadata": {
  "kernelspec": {
   "display_name": "Python 3",
   "language": "python",
   "name": "python3"
  },
  "language_info": {
   "name": "python",
   "version": "3.11.3"
  }
 },
 "nbformat": 4,
 "nbformat_minor": 2
}
